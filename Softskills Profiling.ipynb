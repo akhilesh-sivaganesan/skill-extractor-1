{
 "cells": [
  {
   "cell_type": "markdown",
   "id": "bace0e48",
   "metadata": {},
   "source": [
    "# Text to Softskills Profile with BERT"
   ]
  },
  {
   "cell_type": "markdown",
   "id": "cd1841fd",
   "metadata": {},
   "source": [
    "# Step 1: Creating Softskills Dictionary"
   ]
  },
  {
   "cell_type": "markdown",
   "id": "a9087648",
   "metadata": {},
   "source": [
    "1 Dictionary per Candidate with keys = softskills and values = similarity scores. "
   ]
  },
  {
   "cell_type": "markdown",
   "id": "af5fec11",
   "metadata": {},
   "source": [
    "### Imports"
   ]
  },
  {
   "cell_type": "code",
   "execution_count": 30,
   "id": "a9f14cb4",
   "metadata": {},
   "outputs": [],
   "source": [
    "import pandas as pd\n",
    "from sklearn.metrics.pairwise import cosine_similarity\n",
    "import numpy as np"
   ]
  },
  {
   "cell_type": "markdown",
   "id": "298fef8f",
   "metadata": {},
   "source": [
    "### Open Softskills CSV"
   ]
  },
  {
   "cell_type": "markdown",
   "id": "17ade75e",
   "metadata": {},
   "source": [
    "The softskills CSV provides 8 types of worker personalities. Each has a list of words, although the number of words is variable."
   ]
  },
  {
   "cell_type": "code",
   "execution_count": 31,
   "id": "dae28d16",
   "metadata": {
    "scrolled": false
   },
   "outputs": [
    {
     "data": {
      "text/html": [
       "<div>\n",
       "<style scoped>\n",
       "    .dataframe tbody tr th:only-of-type {\n",
       "        vertical-align: middle;\n",
       "    }\n",
       "\n",
       "    .dataframe tbody tr th {\n",
       "        vertical-align: top;\n",
       "    }\n",
       "\n",
       "    .dataframe thead th {\n",
       "        text-align: right;\n",
       "    }\n",
       "</style>\n",
       "<table border=\"1\" class=\"dataframe\">\n",
       "  <thead>\n",
       "    <tr style=\"text-align: right;\">\n",
       "      <th></th>\n",
       "      <th>Dominance</th>\n",
       "      <th>Unnamed: 1</th>\n",
       "      <th>Unnamed: 2</th>\n",
       "      <th>Extraversion</th>\n",
       "      <th>Unnamed: 4</th>\n",
       "      <th>Unnamed: 5</th>\n",
       "      <th>Patience</th>\n",
       "      <th>Unnamed: 7</th>\n",
       "      <th>Unnamed: 8</th>\n",
       "      <th>Conscientious</th>\n",
       "      <th>...</th>\n",
       "      <th>Unnamed: 16</th>\n",
       "      <th>Unnamed: 17</th>\n",
       "      <th>Unnamed: 18</th>\n",
       "      <th>Unnamed: 19</th>\n",
       "      <th>Unnamed: 20</th>\n",
       "      <th>Unnamed: 21</th>\n",
       "      <th>Unnamed: 22</th>\n",
       "      <th>Unnamed: 23</th>\n",
       "      <th>Unnamed: 24</th>\n",
       "      <th>Unnamed: 25</th>\n",
       "    </tr>\n",
       "  </thead>\n",
       "  <tbody>\n",
       "    <tr>\n",
       "      <th>0</th>\n",
       "      <td>Team Leader</td>\n",
       "      <td>Team Player</td>\n",
       "      <td>NaN</td>\n",
       "      <td>Thinker</td>\n",
       "      <td>Talker</td>\n",
       "      <td>NaN</td>\n",
       "      <td>Steady</td>\n",
       "      <td>Fast Paced</td>\n",
       "      <td>NaN</td>\n",
       "      <td>Detail Oriented</td>\n",
       "      <td>...</td>\n",
       "      <td>NaN</td>\n",
       "      <td>NaN</td>\n",
       "      <td>NaN</td>\n",
       "      <td>NaN</td>\n",
       "      <td>NaN</td>\n",
       "      <td>NaN</td>\n",
       "      <td>NaN</td>\n",
       "      <td>NaN</td>\n",
       "      <td>NaN</td>\n",
       "      <td>NaN</td>\n",
       "    </tr>\n",
       "    <tr>\n",
       "      <th>1</th>\n",
       "      <td>Independent</td>\n",
       "      <td>Collaborative</td>\n",
       "      <td>NaN</td>\n",
       "      <td>Detail Oriented</td>\n",
       "      <td>Connects with others</td>\n",
       "      <td>NaN</td>\n",
       "      <td>Stability</td>\n",
       "      <td>Variety</td>\n",
       "      <td>NaN</td>\n",
       "      <td>Meticulous</td>\n",
       "      <td>...</td>\n",
       "      <td>NaN</td>\n",
       "      <td>NaN</td>\n",
       "      <td>NaN</td>\n",
       "      <td>NaN</td>\n",
       "      <td>NaN</td>\n",
       "      <td>NaN</td>\n",
       "      <td>NaN</td>\n",
       "      <td>NaN</td>\n",
       "      <td>NaN</td>\n",
       "      <td>NaN</td>\n",
       "    </tr>\n",
       "    <tr>\n",
       "      <th>2</th>\n",
       "      <td>Assertive</td>\n",
       "      <td>Cooperative</td>\n",
       "      <td>NaN</td>\n",
       "      <td>Factual</td>\n",
       "      <td>Influencer</td>\n",
       "      <td>NaN</td>\n",
       "      <td>Stable work</td>\n",
       "      <td>Handle multiple priorities</td>\n",
       "      <td>NaN</td>\n",
       "      <td>Thorough</td>\n",
       "      <td>...</td>\n",
       "      <td>NaN</td>\n",
       "      <td>NaN</td>\n",
       "      <td>NaN</td>\n",
       "      <td>NaN</td>\n",
       "      <td>NaN</td>\n",
       "      <td>NaN</td>\n",
       "      <td>NaN</td>\n",
       "      <td>NaN</td>\n",
       "      <td>NaN</td>\n",
       "      <td>NaN</td>\n",
       "    </tr>\n",
       "    <tr>\n",
       "      <th>3</th>\n",
       "      <td>Drive</td>\n",
       "      <td>Harmony-seeking</td>\n",
       "      <td>NaN</td>\n",
       "      <td>Analytical</td>\n",
       "      <td>Sales</td>\n",
       "      <td>NaN</td>\n",
       "      <td>Organized</td>\n",
       "      <td>Demanding</td>\n",
       "      <td>NaN</td>\n",
       "      <td>Punctual</td>\n",
       "      <td>...</td>\n",
       "      <td>NaN</td>\n",
       "      <td>NaN</td>\n",
       "      <td>NaN</td>\n",
       "      <td>NaN</td>\n",
       "      <td>NaN</td>\n",
       "      <td>NaN</td>\n",
       "      <td>NaN</td>\n",
       "      <td>NaN</td>\n",
       "      <td>NaN</td>\n",
       "      <td>NaN</td>\n",
       "    </tr>\n",
       "    <tr>\n",
       "      <th>4</th>\n",
       "      <td>Determined</td>\n",
       "      <td>Team commitment</td>\n",
       "      <td>NaN</td>\n",
       "      <td>Matter-of-fact</td>\n",
       "      <td>Customer service</td>\n",
       "      <td>NaN</td>\n",
       "      <td>Steady pace</td>\n",
       "      <td>target driven</td>\n",
       "      <td>NaN</td>\n",
       "      <td>Reliable</td>\n",
       "      <td>...</td>\n",
       "      <td>NaN</td>\n",
       "      <td>NaN</td>\n",
       "      <td>NaN</td>\n",
       "      <td>NaN</td>\n",
       "      <td>NaN</td>\n",
       "      <td>NaN</td>\n",
       "      <td>NaN</td>\n",
       "      <td>NaN</td>\n",
       "      <td>NaN</td>\n",
       "      <td>NaN</td>\n",
       "    </tr>\n",
       "  </tbody>\n",
       "</table>\n",
       "<p>5 rows × 26 columns</p>\n",
       "</div>"
      ],
      "text/plain": [
       "     Dominance       Unnamed: 1  Unnamed: 2     Extraversion  \\\n",
       "0  Team Leader      Team Player         NaN          Thinker   \n",
       "1  Independent    Collaborative         NaN  Detail Oriented   \n",
       "2    Assertive      Cooperative         NaN          Factual   \n",
       "3        Drive  Harmony-seeking         NaN       Analytical   \n",
       "4   Determined  Team commitment         NaN   Matter-of-fact   \n",
       "\n",
       "             Unnamed: 4  Unnamed: 5     Patience                  Unnamed: 7  \\\n",
       "0                Talker         NaN       Steady                  Fast Paced   \n",
       "1  Connects with others         NaN    Stability                     Variety   \n",
       "2            Influencer         NaN  Stable work  Handle multiple priorities   \n",
       "3                 Sales         NaN    Organized                   Demanding   \n",
       "4      Customer service         NaN  Steady pace               target driven   \n",
       "\n",
       "   Unnamed: 8   Conscientious   ... Unnamed: 16  Unnamed: 17  Unnamed: 18  \\\n",
       "0         NaN  Detail Oriented  ...         NaN          NaN          NaN   \n",
       "1         NaN       Meticulous  ...         NaN          NaN          NaN   \n",
       "2         NaN         Thorough  ...         NaN          NaN          NaN   \n",
       "3         NaN         Punctual  ...         NaN          NaN          NaN   \n",
       "4         NaN         Reliable  ...         NaN          NaN          NaN   \n",
       "\n",
       "   Unnamed: 19  Unnamed: 20  Unnamed: 21  Unnamed: 22  Unnamed: 23  \\\n",
       "0          NaN          NaN          NaN          NaN          NaN   \n",
       "1          NaN          NaN          NaN          NaN          NaN   \n",
       "2          NaN          NaN          NaN          NaN          NaN   \n",
       "3          NaN          NaN          NaN          NaN          NaN   \n",
       "4          NaN          NaN          NaN          NaN          NaN   \n",
       "\n",
       "   Unnamed: 24  Unnamed: 25  \n",
       "0          NaN          NaN  \n",
       "1          NaN          NaN  \n",
       "2          NaN          NaN  \n",
       "3          NaN          NaN  \n",
       "4          NaN          NaN  \n",
       "\n",
       "[5 rows x 26 columns]"
      ]
     },
     "execution_count": 31,
     "metadata": {},
     "output_type": "execute_result"
    }
   ],
   "source": [
    "softskillsDataFrame = pd.read_csv(\"Soft Skills.csv\")\n",
    "softskillsDataFrame.head()"
   ]
  },
  {
   "cell_type": "markdown",
   "id": "07211658",
   "metadata": {},
   "source": [
    "### Drop Empty Columns"
   ]
  },
  {
   "cell_type": "code",
   "execution_count": 32,
   "id": "80e43cd1",
   "metadata": {},
   "outputs": [
    {
     "data": {
      "text/html": [
       "<div>\n",
       "<style scoped>\n",
       "    .dataframe tbody tr th:only-of-type {\n",
       "        vertical-align: middle;\n",
       "    }\n",
       "\n",
       "    .dataframe tbody tr th {\n",
       "        vertical-align: top;\n",
       "    }\n",
       "\n",
       "    .dataframe thead th {\n",
       "        text-align: right;\n",
       "    }\n",
       "</style>\n",
       "<table border=\"1\" class=\"dataframe\">\n",
       "  <thead>\n",
       "    <tr style=\"text-align: right;\">\n",
       "      <th></th>\n",
       "      <th>Dominance</th>\n",
       "      <th>Unnamed: 1</th>\n",
       "      <th>Extraversion</th>\n",
       "      <th>Unnamed: 4</th>\n",
       "      <th>Patience</th>\n",
       "      <th>Unnamed: 7</th>\n",
       "      <th>Conscientious</th>\n",
       "      <th>Unnamed: 10</th>\n",
       "      <th>Unnamed: 11</th>\n",
       "      <th>Unnamed: 12</th>\n",
       "      <th>...</th>\n",
       "      <th>Unnamed: 16</th>\n",
       "      <th>Unnamed: 17</th>\n",
       "      <th>Unnamed: 18</th>\n",
       "      <th>Unnamed: 19</th>\n",
       "      <th>Unnamed: 20</th>\n",
       "      <th>Unnamed: 21</th>\n",
       "      <th>Unnamed: 22</th>\n",
       "      <th>Unnamed: 23</th>\n",
       "      <th>Unnamed: 24</th>\n",
       "      <th>Unnamed: 25</th>\n",
       "    </tr>\n",
       "  </thead>\n",
       "  <tbody>\n",
       "    <tr>\n",
       "      <th>0</th>\n",
       "      <td>Team Leader</td>\n",
       "      <td>Team Player</td>\n",
       "      <td>Thinker</td>\n",
       "      <td>Talker</td>\n",
       "      <td>Steady</td>\n",
       "      <td>Fast Paced</td>\n",
       "      <td>Detail Oriented</td>\n",
       "      <td>Innovative</td>\n",
       "      <td>NaN</td>\n",
       "      <td>NaN</td>\n",
       "      <td>...</td>\n",
       "      <td>NaN</td>\n",
       "      <td>NaN</td>\n",
       "      <td>NaN</td>\n",
       "      <td>NaN</td>\n",
       "      <td>NaN</td>\n",
       "      <td>NaN</td>\n",
       "      <td>NaN</td>\n",
       "      <td>NaN</td>\n",
       "      <td>NaN</td>\n",
       "      <td>NaN</td>\n",
       "    </tr>\n",
       "    <tr>\n",
       "      <th>1</th>\n",
       "      <td>Independent</td>\n",
       "      <td>Collaborative</td>\n",
       "      <td>Detail Oriented</td>\n",
       "      <td>Connects with others</td>\n",
       "      <td>Stability</td>\n",
       "      <td>Variety</td>\n",
       "      <td>Meticulous</td>\n",
       "      <td>Freedom from rules</td>\n",
       "      <td>NaN</td>\n",
       "      <td>NaN</td>\n",
       "      <td>...</td>\n",
       "      <td>NaN</td>\n",
       "      <td>NaN</td>\n",
       "      <td>NaN</td>\n",
       "      <td>NaN</td>\n",
       "      <td>NaN</td>\n",
       "      <td>NaN</td>\n",
       "      <td>NaN</td>\n",
       "      <td>NaN</td>\n",
       "      <td>NaN</td>\n",
       "      <td>NaN</td>\n",
       "    </tr>\n",
       "    <tr>\n",
       "      <th>2</th>\n",
       "      <td>Assertive</td>\n",
       "      <td>Cooperative</td>\n",
       "      <td>Factual</td>\n",
       "      <td>Influencer</td>\n",
       "      <td>Stable work</td>\n",
       "      <td>Handle multiple priorities</td>\n",
       "      <td>Thorough</td>\n",
       "      <td>Ingenuity</td>\n",
       "      <td>NaN</td>\n",
       "      <td>NaN</td>\n",
       "      <td>...</td>\n",
       "      <td>NaN</td>\n",
       "      <td>NaN</td>\n",
       "      <td>NaN</td>\n",
       "      <td>NaN</td>\n",
       "      <td>NaN</td>\n",
       "      <td>NaN</td>\n",
       "      <td>NaN</td>\n",
       "      <td>NaN</td>\n",
       "      <td>NaN</td>\n",
       "      <td>NaN</td>\n",
       "    </tr>\n",
       "    <tr>\n",
       "      <th>3</th>\n",
       "      <td>Drive</td>\n",
       "      <td>Harmony-seeking</td>\n",
       "      <td>Analytical</td>\n",
       "      <td>Sales</td>\n",
       "      <td>Organized</td>\n",
       "      <td>Demanding</td>\n",
       "      <td>Punctual</td>\n",
       "      <td>Creative</td>\n",
       "      <td>NaN</td>\n",
       "      <td>NaN</td>\n",
       "      <td>...</td>\n",
       "      <td>NaN</td>\n",
       "      <td>NaN</td>\n",
       "      <td>NaN</td>\n",
       "      <td>NaN</td>\n",
       "      <td>NaN</td>\n",
       "      <td>NaN</td>\n",
       "      <td>NaN</td>\n",
       "      <td>NaN</td>\n",
       "      <td>NaN</td>\n",
       "      <td>NaN</td>\n",
       "    </tr>\n",
       "    <tr>\n",
       "      <th>4</th>\n",
       "      <td>Determined</td>\n",
       "      <td>Team commitment</td>\n",
       "      <td>Matter-of-fact</td>\n",
       "      <td>Customer service</td>\n",
       "      <td>Steady pace</td>\n",
       "      <td>target driven</td>\n",
       "      <td>Reliable</td>\n",
       "      <td>Ideator</td>\n",
       "      <td>NaN</td>\n",
       "      <td>NaN</td>\n",
       "      <td>...</td>\n",
       "      <td>NaN</td>\n",
       "      <td>NaN</td>\n",
       "      <td>NaN</td>\n",
       "      <td>NaN</td>\n",
       "      <td>NaN</td>\n",
       "      <td>NaN</td>\n",
       "      <td>NaN</td>\n",
       "      <td>NaN</td>\n",
       "      <td>NaN</td>\n",
       "      <td>NaN</td>\n",
       "    </tr>\n",
       "  </tbody>\n",
       "</table>\n",
       "<p>5 rows × 23 columns</p>\n",
       "</div>"
      ],
      "text/plain": [
       "     Dominance       Unnamed: 1     Extraversion            Unnamed: 4  \\\n",
       "0  Team Leader      Team Player          Thinker                Talker   \n",
       "1  Independent    Collaborative  Detail Oriented  Connects with others   \n",
       "2    Assertive      Cooperative          Factual            Influencer   \n",
       "3        Drive  Harmony-seeking       Analytical                 Sales   \n",
       "4   Determined  Team commitment   Matter-of-fact      Customer service   \n",
       "\n",
       "      Patience                  Unnamed: 7   Conscientious   \\\n",
       "0       Steady                  Fast Paced  Detail Oriented   \n",
       "1    Stability                     Variety       Meticulous   \n",
       "2  Stable work  Handle multiple priorities         Thorough   \n",
       "3    Organized                   Demanding         Punctual   \n",
       "4  Steady pace               target driven         Reliable   \n",
       "\n",
       "          Unnamed: 10  Unnamed: 11  Unnamed: 12  ...  Unnamed: 16  \\\n",
       "0          Innovative          NaN          NaN  ...          NaN   \n",
       "1  Freedom from rules          NaN          NaN  ...          NaN   \n",
       "2           Ingenuity          NaN          NaN  ...          NaN   \n",
       "3            Creative          NaN          NaN  ...          NaN   \n",
       "4             Ideator          NaN          NaN  ...          NaN   \n",
       "\n",
       "   Unnamed: 17  Unnamed: 18  Unnamed: 19  Unnamed: 20  Unnamed: 21  \\\n",
       "0          NaN          NaN          NaN          NaN          NaN   \n",
       "1          NaN          NaN          NaN          NaN          NaN   \n",
       "2          NaN          NaN          NaN          NaN          NaN   \n",
       "3          NaN          NaN          NaN          NaN          NaN   \n",
       "4          NaN          NaN          NaN          NaN          NaN   \n",
       "\n",
       "   Unnamed: 22  Unnamed: 23  Unnamed: 24  Unnamed: 25  \n",
       "0          NaN          NaN          NaN          NaN  \n",
       "1          NaN          NaN          NaN          NaN  \n",
       "2          NaN          NaN          NaN          NaN  \n",
       "3          NaN          NaN          NaN          NaN  \n",
       "4          NaN          NaN          NaN          NaN  \n",
       "\n",
       "[5 rows x 23 columns]"
      ]
     },
     "execution_count": 32,
     "metadata": {},
     "output_type": "execute_result"
    }
   ],
   "source": [
    "softskillsDataFrame.drop(['Unnamed: 2', 'Unnamed: 5','Unnamed: 8'], inplace=True, axis=1)\n",
    "softskillsDataFrame.head()"
   ]
  },
  {
   "cell_type": "markdown",
   "id": "d891c3da",
   "metadata": {},
   "source": [
    "### Rename Columns"
   ]
  },
  {
   "cell_type": "code",
   "execution_count": 57,
   "id": "f855de8c",
   "metadata": {
    "scrolled": false
   },
   "outputs": [
    {
     "data": {
      "text/html": [
       "<div>\n",
       "<style scoped>\n",
       "    .dataframe tbody tr th:only-of-type {\n",
       "        vertical-align: middle;\n",
       "    }\n",
       "\n",
       "    .dataframe tbody tr th {\n",
       "        vertical-align: top;\n",
       "    }\n",
       "\n",
       "    .dataframe thead th {\n",
       "        text-align: right;\n",
       "    }\n",
       "</style>\n",
       "<table border=\"1\" class=\"dataframe\">\n",
       "  <thead>\n",
       "    <tr style=\"text-align: right;\">\n",
       "      <th></th>\n",
       "      <th>Dominance</th>\n",
       "      <th>Dominance</th>\n",
       "      <th>Extraversion</th>\n",
       "      <th>Extraversion</th>\n",
       "      <th>Patience</th>\n",
       "      <th>Patience</th>\n",
       "      <th>Conscientious</th>\n",
       "      <th>Conscientious</th>\n",
       "    </tr>\n",
       "  </thead>\n",
       "  <tbody>\n",
       "    <tr>\n",
       "      <th>0</th>\n",
       "      <td>Team Leader</td>\n",
       "      <td>Team Player</td>\n",
       "      <td>Thinker</td>\n",
       "      <td>Talker</td>\n",
       "      <td>Steady</td>\n",
       "      <td>Fast Paced</td>\n",
       "      <td>Detail Oriented</td>\n",
       "      <td>Innovative</td>\n",
       "    </tr>\n",
       "    <tr>\n",
       "      <th>1</th>\n",
       "      <td>Independent</td>\n",
       "      <td>Collaborative</td>\n",
       "      <td>Detail Oriented</td>\n",
       "      <td>Connects with others</td>\n",
       "      <td>Stability</td>\n",
       "      <td>Variety</td>\n",
       "      <td>Meticulous</td>\n",
       "      <td>Freedom from rules</td>\n",
       "    </tr>\n",
       "    <tr>\n",
       "      <th>2</th>\n",
       "      <td>Assertive</td>\n",
       "      <td>Cooperative</td>\n",
       "      <td>Factual</td>\n",
       "      <td>Influencer</td>\n",
       "      <td>Stable work</td>\n",
       "      <td>Handle multiple priorities</td>\n",
       "      <td>Thorough</td>\n",
       "      <td>Ingenuity</td>\n",
       "    </tr>\n",
       "    <tr>\n",
       "      <th>3</th>\n",
       "      <td>Drive</td>\n",
       "      <td>Harmony-seeking</td>\n",
       "      <td>Analytical</td>\n",
       "      <td>Sales</td>\n",
       "      <td>Organized</td>\n",
       "      <td>Demanding</td>\n",
       "      <td>Punctual</td>\n",
       "      <td>Creative</td>\n",
       "    </tr>\n",
       "    <tr>\n",
       "      <th>4</th>\n",
       "      <td>Determined</td>\n",
       "      <td>Team commitment</td>\n",
       "      <td>Matter-of-fact</td>\n",
       "      <td>Customer service</td>\n",
       "      <td>Steady pace</td>\n",
       "      <td>target driven</td>\n",
       "      <td>Reliable</td>\n",
       "      <td>Ideator</td>\n",
       "    </tr>\n",
       "  </tbody>\n",
       "</table>\n",
       "</div>"
      ],
      "text/plain": [
       "     Dominance        Dominance     Extraversion          Extraversion  \\\n",
       "0  Team Leader      Team Player          Thinker                Talker   \n",
       "1  Independent    Collaborative  Detail Oriented  Connects with others   \n",
       "2    Assertive      Cooperative          Factual            Influencer   \n",
       "3        Drive  Harmony-seeking       Analytical                 Sales   \n",
       "4   Determined  Team commitment   Matter-of-fact      Customer service   \n",
       "\n",
       "      Patience                    Patience   Conscientious   \\\n",
       "0       Steady                  Fast Paced  Detail Oriented   \n",
       "1    Stability                     Variety       Meticulous   \n",
       "2  Stable work  Handle multiple priorities         Thorough   \n",
       "3    Organized                   Demanding         Punctual   \n",
       "4  Steady pace               target driven         Reliable   \n",
       "\n",
       "        Conscientious  \n",
       "0          Innovative  \n",
       "1  Freedom from rules  \n",
       "2           Ingenuity  \n",
       "3            Creative  \n",
       "4             Ideator  "
      ]
     },
     "execution_count": 57,
     "metadata": {},
     "output_type": "execute_result"
    }
   ],
   "source": [
    "softskillsDataFrame.rename(columns = {'Unnamed: 1': 'Dominance', 'Unnamed: 4': 'Extraversion', 'Unnamed: 7': 'Patience', 'Unnamed: 10': \"Conscientious\"}, inplace=True)\n",
    "softskillsDataFrame.head()"
   ]
  },
  {
   "cell_type": "markdown",
   "id": "7b7a4d70",
   "metadata": {},
   "source": [
    "### Integer index to just 8 columns"
   ]
  },
  {
   "cell_type": "code",
   "execution_count": 58,
   "id": "215dd8cf",
   "metadata": {},
   "outputs": [
    {
     "data": {
      "text/html": [
       "<div>\n",
       "<style scoped>\n",
       "    .dataframe tbody tr th:only-of-type {\n",
       "        vertical-align: middle;\n",
       "    }\n",
       "\n",
       "    .dataframe tbody tr th {\n",
       "        vertical-align: top;\n",
       "    }\n",
       "\n",
       "    .dataframe thead th {\n",
       "        text-align: right;\n",
       "    }\n",
       "</style>\n",
       "<table border=\"1\" class=\"dataframe\">\n",
       "  <thead>\n",
       "    <tr style=\"text-align: right;\">\n",
       "      <th></th>\n",
       "      <th>Dominance</th>\n",
       "      <th>Dominance</th>\n",
       "      <th>Extraversion</th>\n",
       "      <th>Extraversion</th>\n",
       "      <th>Patience</th>\n",
       "      <th>Patience</th>\n",
       "      <th>Conscientious</th>\n",
       "      <th>Conscientious</th>\n",
       "    </tr>\n",
       "  </thead>\n",
       "  <tbody>\n",
       "    <tr>\n",
       "      <th>0</th>\n",
       "      <td>Team Leader</td>\n",
       "      <td>Team Player</td>\n",
       "      <td>Thinker</td>\n",
       "      <td>Talker</td>\n",
       "      <td>Steady</td>\n",
       "      <td>Fast Paced</td>\n",
       "      <td>Detail Oriented</td>\n",
       "      <td>Innovative</td>\n",
       "    </tr>\n",
       "    <tr>\n",
       "      <th>1</th>\n",
       "      <td>Independent</td>\n",
       "      <td>Collaborative</td>\n",
       "      <td>Detail Oriented</td>\n",
       "      <td>Connects with others</td>\n",
       "      <td>Stability</td>\n",
       "      <td>Variety</td>\n",
       "      <td>Meticulous</td>\n",
       "      <td>Freedom from rules</td>\n",
       "    </tr>\n",
       "    <tr>\n",
       "      <th>2</th>\n",
       "      <td>Assertive</td>\n",
       "      <td>Cooperative</td>\n",
       "      <td>Factual</td>\n",
       "      <td>Influencer</td>\n",
       "      <td>Stable work</td>\n",
       "      <td>Handle multiple priorities</td>\n",
       "      <td>Thorough</td>\n",
       "      <td>Ingenuity</td>\n",
       "    </tr>\n",
       "    <tr>\n",
       "      <th>3</th>\n",
       "      <td>Drive</td>\n",
       "      <td>Harmony-seeking</td>\n",
       "      <td>Analytical</td>\n",
       "      <td>Sales</td>\n",
       "      <td>Organized</td>\n",
       "      <td>Demanding</td>\n",
       "      <td>Punctual</td>\n",
       "      <td>Creative</td>\n",
       "    </tr>\n",
       "    <tr>\n",
       "      <th>4</th>\n",
       "      <td>Determined</td>\n",
       "      <td>Team commitment</td>\n",
       "      <td>Matter-of-fact</td>\n",
       "      <td>Customer service</td>\n",
       "      <td>Steady pace</td>\n",
       "      <td>target driven</td>\n",
       "      <td>Reliable</td>\n",
       "      <td>Ideator</td>\n",
       "    </tr>\n",
       "  </tbody>\n",
       "</table>\n",
       "</div>"
      ],
      "text/plain": [
       "     Dominance        Dominance     Extraversion          Extraversion  \\\n",
       "0  Team Leader      Team Player          Thinker                Talker   \n",
       "1  Independent    Collaborative  Detail Oriented  Connects with others   \n",
       "2    Assertive      Cooperative          Factual            Influencer   \n",
       "3        Drive  Harmony-seeking       Analytical                 Sales   \n",
       "4   Determined  Team commitment   Matter-of-fact      Customer service   \n",
       "\n",
       "      Patience                    Patience   Conscientious   \\\n",
       "0       Steady                  Fast Paced  Detail Oriented   \n",
       "1    Stability                     Variety       Meticulous   \n",
       "2  Stable work  Handle multiple priorities         Thorough   \n",
       "3    Organized                   Demanding         Punctual   \n",
       "4  Steady pace               target driven         Reliable   \n",
       "\n",
       "        Conscientious  \n",
       "0          Innovative  \n",
       "1  Freedom from rules  \n",
       "2           Ingenuity  \n",
       "3            Creative  \n",
       "4             Ideator  "
      ]
     },
     "execution_count": 58,
     "metadata": {},
     "output_type": "execute_result"
    }
   ],
   "source": [
    "softskillsDataFrame = softskillsDataFrame.iloc[0:54, 0:8]\n",
    "softskillsDataFrame.head()"
   ]
  },
  {
   "cell_type": "markdown",
   "id": "7bb9868c",
   "metadata": {},
   "source": [
    "### Create a soft skills dictionary with the non null soft skill words as keys"
   ]
  },
  {
   "cell_type": "code",
   "execution_count": 35,
   "id": "b26c06a6",
   "metadata": {},
   "outputs": [
    {
     "name": "stdout",
     "output_type": "stream",
     "text": [
      "dict_keys(['Team Leader', 'Independent', 'Assertive', 'Drive', 'Determined', 'Self Moviated', 'Management', 'Leadership', 'Initiative', 'Self-confident', 'Autonomy', 'Control', 'Coaching', 'Teaching', 'Instructor', 'Motivated', 'Spearhead', 'Develop others', 'Mentor', 'Fast-paced', 'Strong-willed', 'Inspirational', 'Questioning', 'Goal-oriented', 'Blunt', 'Bottom-line', 'Skeptical', 'Focused', 'Forceful', 'Risk-taker', 'Competitive', 'Concrete', 'Outspoken', 'Straightforward', 'Action-oriented', 'Swift', 'Freedom', 'Strong', 'Decisive ', 'Success-oriented', 'Delegates', 'Empowers', 'Stands up', 'Monitor', 'Supervising', 'Team Player', 'Collaborative', 'Cooperative', 'Harmony-seeking', 'Team commitment', 'Open Minded', 'Cross-functional teams', 'Faclitating cooperation', 'Mediation', 'Team setting', 'Team environment', 'Coordianting efforts', 'Catalyze the best for others', 'Collaborative Groups', 'Working closely with users', 'Managing conflict', 'Recognize team success', 'Teammwork', 'Connection', 'Mutual Trust', 'Long term relationships', 'Value feedback', 'Suggestions of others', 'Team goals', 'Thinker', 'Detail Oriented', 'Factual', 'Analytical', 'Matter-of-fact', 'Data analysis', 'Systematic', 'Curious', 'Attention to detail.', 'Building models', 'Memorizing', 'Research', 'Individual contributor', 'Hyper focus', 'Good memory', 'Logial thinker', 'Quiet environment', 'Extraversion', 'Operations', 'Talker', 'Connects with others', 'Influencer', 'Sales', 'Customer service', 'Working with people', 'Cultural', 'Confident', 'Communicator', 'Persuasive ', 'Enthusiastic', 'Develop relationships', 'Energetic', 'Likeminded people', 'Friendly', 'Good attitude', 'Public speaking', 'Curious about people', 'Empathize', 'Connecting ', 'Work well with others', 'Languages', 'Personable', 'Verbal skills', 'Talking to people', 'Helping people', 'Relationships', 'Expressive', 'Sociable', 'Upbeat', 'Trusting', 'Magnetic', 'Democratic', 'Warm', 'High-energy', 'Interpersonal', 'Opinionated', 'Promoter', 'Counselor', 'Lively', 'Social', 'Accepting', 'Eager', 'Convincing ', 'Spontaneous ', 'Impulsive', 'Steady', 'Stability', 'Stable work', 'Organized', 'Steady pace', 'Structure', 'Instructions', 'Scheduling', 'Ahead of time', 'On time', 'Attendance', 'Dependable ', 'Empathetic', 'Deliberate', 'Cautious', 'Calm', 'Supportive', 'Open', 'Indescisive', 'Sincere', 'Loyal', 'Accomadating ', 'Appreciative', 'Patient', 'Genuine', 'Security', 'Helpful', 'Consistent', 'Predictable', 'Fast Paced', 'Variety', 'Handle multiple priorities', 'Demanding', 'target driven', 'Flexible', 'Multitasking', 'Proactive', 'Dynamic', 'Adaptable', 'Fast speed', 'Deadlines', 'Pressure', 'Willing to try new things', 'Learn quickly', 'Fast learner', 'Changes in work environment', 'New approaches', 'Uncertain', 'Growth', 'Adjusts approaches', 'Meticulous', 'Thorough', 'Punctual', 'Reliable', 'Organisational', 'Discipoined', 'Depth of knowledge', 'systematic', 'Operational', 'Structured', 'Work knowledge', 'Sharp', 'Programming', 'Early', 'Synthesize data', 'Data Oriented', 'Eye for detail', 'Spotting errors', 'Ensure correct', 'Pattern Recognition', 'Analyze data', 'Accuracy', 'Good arranger', 'Logical thinker', 'Extensive knowledge', 'Quality', 'Expertise', 'Isolating', 'Logical', 'Critical', 'Reserved', 'Effective', 'Evidence-based', 'Dependable', 'Knowledgeable', 'Rational', 'Perfectionist', 'Trustworthy', 'Objective', 'Diplomatic', 'Unemotional', 'Correctness', 'Detail-oriented', 'Tactful', 'Competent', 'Fact Based', 'Innovative', 'Freedom from rules', 'Ingenuity', 'Creative', 'Ideator', 'Inventor', 'Architect', 'Creative Solutions', 'Achiever', 'Open ended', 'Out of the box thinking', 'Creative Problem solving', 'Big Picture thinking', 'Connecting dots', 'Arts', 'Writing', 'Strategy', 'Improve Organizations'])\n"
     ]
    }
   ],
   "source": [
    "softskillDictionary = {}\n",
    "# count = 0\n",
    "for (columnName, columnData) in softskillsDataFrame.iteritems():\n",
    "    boolSeries = pd.notnull(columnData)\n",
    "    newSeries = columnData[boolSeries]\n",
    "    for string in newSeries:\n",
    "        # print (string)\n",
    "        softskillDictionary[string] = 0\n",
    "        #count = count + 1\n",
    "#print (count) is 262\n",
    "print (softskillDictionary.keys()) #248 count for some reason"
   ]
  },
  {
   "cell_type": "markdown",
   "id": "41902a87",
   "metadata": {},
   "source": [
    "# Start of BERT Application\n",
    "Sentence transformer is used to vectorize words or phrases, but perhaps Word2Vec is better for that. Not sure exactly what this BERT model is but I know that this encodes a given text to vectors. Since it scans the corpus bidirectionally, it has better understanding of the word's meaning and role in the sentence."
   ]
  },
  {
   "cell_type": "markdown",
   "id": "a1f147fa",
   "metadata": {},
   "source": [
    "### Import SentenceTransformers"
   ]
  },
  {
   "cell_type": "markdown",
   "id": "51736b01",
   "metadata": {},
   "source": [
    "Convert every key in the softksills dictionary to a vector. This is a key embedding!"
   ]
  },
  {
   "cell_type": "code",
   "execution_count": 36,
   "id": "2c80ea58",
   "metadata": {},
   "outputs": [
    {
     "name": "stdout",
     "output_type": "stream",
     "text": [
      "(248, 768)\n"
     ]
    }
   ],
   "source": [
    "from sentence_transformers import SentenceTransformer\n",
    "model = SentenceTransformer('bert-base-nli-mean-tokens')\n",
    "#Encoding:\n",
    "keyList = list(softskillDictionary.keys())\n",
    "key_embeddings = model.encode(keyList)\n",
    "print(key_embeddings.shape)"
   ]
  },
  {
   "cell_type": "markdown",
   "id": "259f1ac0",
   "metadata": {},
   "source": [
    "# Candidate Data Extraction"
   ]
  },
  {
   "cell_type": "markdown",
   "id": "64095292",
   "metadata": {},
   "source": [
    "### Read candidate data\n",
    "This is their strengths, skills, experience, and job details."
   ]
  },
  {
   "cell_type": "code",
   "execution_count": 37,
   "id": "292d2ef9",
   "metadata": {},
   "outputs": [
    {
     "data": {
      "text/html": [
       "<div>\n",
       "<style scoped>\n",
       "    .dataframe tbody tr th:only-of-type {\n",
       "        vertical-align: middle;\n",
       "    }\n",
       "\n",
       "    .dataframe tbody tr th {\n",
       "        vertical-align: top;\n",
       "    }\n",
       "\n",
       "    .dataframe thead th {\n",
       "        text-align: right;\n",
       "    }\n",
       "</style>\n",
       "<table border=\"1\" class=\"dataframe\">\n",
       "  <thead>\n",
       "    <tr style=\"text-align: right;\">\n",
       "      <th></th>\n",
       "      <th>Strengths</th>\n",
       "      <th>Skills</th>\n",
       "      <th>Experience</th>\n",
       "      <th>Job Details</th>\n",
       "    </tr>\n",
       "  </thead>\n",
       "  <tbody>\n",
       "    <tr>\n",
       "      <th>0</th>\n",
       "      <td>I am good at developing  \"Big Picture\" thinkin...</td>\n",
       "      <td>I am a non conventional thinker, and a creativ...</td>\n",
       "      <td>NaN</td>\n",
       "      <td>I'v consulted Harvard university in respect of...</td>\n",
       "    </tr>\n",
       "    <tr>\n",
       "      <th>1</th>\n",
       "      <td>I found the initiative to understand how to sp...</td>\n",
       "      <td>Perhaps because of my passion for writing and ...</td>\n",
       "      <td>NaN</td>\n",
       "      <td>As the name implies, I am tasked with sacking ...</td>\n",
       "    </tr>\n",
       "    <tr>\n",
       "      <th>2</th>\n",
       "      <td>I am resourceful and determined to catalyze th...</td>\n",
       "      <td>I am a versatile design specialist with a back...</td>\n",
       "      <td>NaN</td>\n",
       "      <td>Optimized clients' business objectives with be...</td>\n",
       "    </tr>\n",
       "    <tr>\n",
       "      <th>3</th>\n",
       "      <td>I am good at improving my work quality so that...</td>\n",
       "      <td>Mathematics and story writing. I went through ...</td>\n",
       "      <td>I've done good work at the Tibetan center and ...</td>\n",
       "      <td>Stocked selves. Priced inventory. Checked item...</td>\n",
       "    </tr>\n",
       "    <tr>\n",
       "      <th>4</th>\n",
       "      <td>My biggest strengths would be my ability to hy...</td>\n",
       "      <td>I excel at community building and bridging com...</td>\n",
       "      <td>I am and have been a full stack engineer at Wa...</td>\n",
       "      <td>I built and maintained complex tools and data ...</td>\n",
       "    </tr>\n",
       "  </tbody>\n",
       "</table>\n",
       "</div>"
      ],
      "text/plain": [
       "                                           Strengths  \\\n",
       "0  I am good at developing  \"Big Picture\" thinkin...   \n",
       "1  I found the initiative to understand how to sp...   \n",
       "2  I am resourceful and determined to catalyze th...   \n",
       "3  I am good at improving my work quality so that...   \n",
       "4  My biggest strengths would be my ability to hy...   \n",
       "\n",
       "                                              Skills  \\\n",
       "0  I am a non conventional thinker, and a creativ...   \n",
       "1  Perhaps because of my passion for writing and ...   \n",
       "2  I am a versatile design specialist with a back...   \n",
       "3  Mathematics and story writing. I went through ...   \n",
       "4  I excel at community building and bridging com...   \n",
       "\n",
       "                                          Experience  \\\n",
       "0                                                NaN   \n",
       "1                                                NaN   \n",
       "2                                                NaN   \n",
       "3  I've done good work at the Tibetan center and ...   \n",
       "4  I am and have been a full stack engineer at Wa...   \n",
       "\n",
       "                                         Job Details  \n",
       "0  I'v consulted Harvard university in respect of...  \n",
       "1  As the name implies, I am tasked with sacking ...  \n",
       "2  Optimized clients' business objectives with be...  \n",
       "3  Stocked selves. Priced inventory. Checked item...  \n",
       "4  I built and maintained complex tools and data ...  "
      ]
     },
     "execution_count": 37,
     "metadata": {},
     "output_type": "execute_result"
    }
   ],
   "source": [
    "candidates = pd.read_csv(\"./candidate_data.csv\")\n",
    "candidates = candidates.iloc[:,[38,39,42,74]]\n",
    "candidates = candidates.rename(columns = {list(candidates.columns)[0]: \"Strengths\",list(candidates.columns)[1]: \"Skills\",list(candidates.columns)[2]: \"Experience\",list(candidates.columns)[3]: \"Job Details\"})\n",
    "candidates.head()"
   ]
  },
  {
   "cell_type": "markdown",
   "id": "f35b90f9",
   "metadata": {},
   "source": [
    "### Candidate Blobs\n",
    "The strengths, the skills, the experience, and job details are combined into one string per candidate."
   ]
  },
  {
   "cell_type": "code",
   "execution_count": 38,
   "id": "fcb31f1a",
   "metadata": {},
   "outputs": [
    {
     "data": {
      "text/plain": [
       "'I am good at developing  \"Big Picture\" thinking about complex technology trends and markets, highly useful in my research, I am a team player and often find at ease in coordinating team efforts though a project.I am a non conventional thinker, and a creative person, I am also a good motivator and mentor to my peers, I enjoy exercising design and lateral thinking to develop effective solutions to complex challenges. I enjoy designing urban innovation strategies.I\\'v consulted Harvard university in respect of current built environment digital technologies and alternative financing models over 3,5,10 years horizons and prepared by mentoring , lecturing and participating in workshops, master degrees students for future practices.'"
      ]
     },
     "execution_count": 38,
     "metadata": {},
     "output_type": "execute_result"
    }
   ],
   "source": [
    "candidateBlobs = []\n",
    "for index, row in candidates.iterrows():\n",
    "    candidateBlobs.append(row.str.cat())\n",
    "candidateBlobs[0]"
   ]
  },
  {
   "cell_type": "markdown",
   "id": "8301a54d",
   "metadata": {},
   "source": [
    "### Find the softskills profile for first candidate blob"
   ]
  },
  {
   "cell_type": "code",
   "execution_count": 39,
   "id": "a827c6ec",
   "metadata": {},
   "outputs": [],
   "source": [
    "testCandidate = candidateBlobs[0]"
   ]
  },
  {
   "cell_type": "markdown",
   "id": "1a2cc029",
   "metadata": {},
   "source": [
    "### Clean this blob of text\n",
    "Remove stopwords, words less than 3 characters, and lemmatize using NLTK. Further cleaning can be implemented with Part-Of-Speech tagging (only using verbs or adjectives, etc.) to narrow key words of the candidate data."
   ]
  },
  {
   "cell_type": "code",
   "execution_count": 59,
   "id": "8f635c9e",
   "metadata": {
    "scrolled": false
   },
   "outputs": [
    {
     "name": "stdout",
     "output_type": "stream",
     "text": [
      "['good', 'developing', 'Big', 'Picture', 'thinking', 'complex', 'technology', 'trend', 'market', 'highly', 'useful', 'research', 'team', 'player', 'often', 'find', 'ease', 'coordinating', 'team', 'effort', 'though', 'project', 'non', 'conventional', 'thinker', 'creative', 'person', 'also', 'good', 'motivator', 'mentor', 'peer', 'enjoy', 'exercising', 'design', 'lateral', 'thinking', 'develop', 'effective', 'solution', 'complex', 'challenge', 'enjoy', 'designing', 'urban', 'innovation', 'strategy', 'consulted', 'Harvard', 'university', 'respect', 'current', 'built', 'environment', 'digital', 'technology', 'alternative', 'financing', 'model', 'year', 'horizon', 'prepared', 'mentoring', 'lecturing', 'participating', 'workshop', 'master', 'degree', 'student', 'future', 'practice']\n"
     ]
    }
   ],
   "source": [
    "import nltk\n",
    "from nltk.corpus import stopwords\n",
    "from nltk.tokenize import word_tokenize\n",
    "from nltk.stem import WordNetLemmatizer\n",
    "import re\n",
    "\n",
    "lemmatizer = WordNetLemmatizer()\n",
    "stop_words = set(stopwords.words('english'))\n",
    "testCandidate = re.sub(r'[^\\w\\s]',' ', testCandidate)\n",
    "word_tokens = word_tokenize(testCandidate)\n",
    "\n",
    "filteredParagraph = []\n",
    "\n",
    "for w in word_tokens:\n",
    "    if w not in stop_words and len(w) > 2: #To remove most of the punctuation and sped words\n",
    "        filteredParagraph.append(lemmatizer.lemmatize(w))\n",
    "        #print(w + \": \" + lemmatizer.lemmatize(w))\n",
    "\n",
    "print(filteredParagraph)"
   ]
  },
  {
   "cell_type": "markdown",
   "id": "024c8859",
   "metadata": {},
   "source": [
    "### Create unique encoding for test candidate blob\n",
    "Print the cosine similarity score between the first key (which is a soft skill word like \"Team Leader\") and every word in the filtered paragraph encoded (filteredEmbed)."
   ]
  },
  {
   "cell_type": "code",
   "execution_count": 41,
   "id": "946512a2",
   "metadata": {
    "scrolled": false
   },
   "outputs": [
    {
     "name": "stdout",
     "output_type": "stream",
     "text": [
      "[[0.62626487 0.6886418  0.5721537  0.5995661  0.64255106 0.5192255\n",
      "  0.6472932  0.64143527 0.4505285  0.6249796  0.6420294  0.6134052\n",
      "  0.70776844 0.69671685 0.6254381  0.59740454 0.5476612  0.7529969\n",
      "  0.7077684  0.69679976 0.50594187 0.6856246  0.3649695  0.455686\n",
      "  0.6347934  0.7154338  0.70346665 0.59265095 0.62626487 0.7502358\n",
      "  0.77227485 0.67053133 0.6055478  0.6887841  0.65282255 0.54020005\n",
      "  0.64255106 0.66573113 0.6849568  0.64469486 0.5192254  0.6720971\n",
      "  0.6055478  0.6788463  0.45199347 0.67177486 0.7173019  0.637907\n",
      "  0.37137687 0.44803134 0.64391685 0.61405426 0.6503183  0.5859797\n",
      "  0.47889125 0.6472932  0.5665082  0.6583452  0.6675593  0.49904186\n",
      "  0.5767889  0.7271948  0.7662436  0.5769757  0.7346028  0.6561968\n",
      "  0.69754356 0.6031715  0.6241054  0.53362453 0.70732653]]\n"
     ]
    }
   ],
   "source": [
    "filteredEmbed = model.encode(filteredParagraph)\n",
    "cosResult = cosine_similarity([key_embeddings[0]], filteredEmbed)\n",
    "print(cosResult)"
   ]
  },
  {
   "cell_type": "markdown",
   "id": "38123752",
   "metadata": {},
   "source": [
    "### Update Soft Skills Dictionary\n",
    "For each key, find its list of similarity scores with the test candidate blob and set this as its value."
   ]
  },
  {
   "cell_type": "code",
   "execution_count": 42,
   "id": "b26a448e",
   "metadata": {},
   "outputs": [],
   "source": [
    "index = 0\n",
    "for key in keyList:\n",
    "    value = cosine_similarity([key_embeddings[index]], filteredEmbed)\n",
    "    softskillDictionary[key] = value[0] #removes list of lists\n",
    "    index += 1"
   ]
  },
  {
   "cell_type": "code",
   "execution_count": 43,
   "id": "e3ee8ae0",
   "metadata": {
    "scrolled": false
   },
   "outputs": [
    {
     "name": "stdout",
     "output_type": "stream",
     "text": [
      "[0.62626487 0.6886418  0.5721537  0.5995661  0.64255106 0.5192255\n",
      " 0.6472932  0.64143527 0.4505285  0.6249796  0.6420294  0.6134052\n",
      " 0.70776844 0.69671685 0.6254381  0.59740454 0.5476612  0.7529969\n",
      " 0.7077684  0.69679976 0.50594187 0.6856246  0.3649695  0.455686\n",
      " 0.6347934  0.7154338  0.70346665 0.59265095 0.62626487 0.7502358\n",
      " 0.77227485 0.67053133 0.6055478  0.6887841  0.65282255 0.54020005\n",
      " 0.64255106 0.66573113 0.6849568  0.64469486 0.5192254  0.6720971\n",
      " 0.6055478  0.6788463  0.45199347 0.67177486 0.7173019  0.637907\n",
      " 0.37137687 0.44803134 0.64391685 0.61405426 0.6503183  0.5859797\n",
      " 0.47889125 0.6472932  0.5665082  0.6583452  0.6675593  0.49904186\n",
      " 0.5767889  0.7271948  0.7662436  0.5769757  0.7346028  0.6561968\n",
      " 0.69754356 0.6031715  0.6241054  0.53362453 0.70732653]\n",
      "[0.6438643  0.49032176 0.4374673  0.5388757  0.5869322  0.54367304\n",
      " 0.54381704 0.54239345 0.437105   0.55687165 0.6223043  0.48066062\n",
      " 0.6249034  0.59112746 0.49678397 0.5917739  0.7081559  0.59055084\n",
      " 0.6249034  0.6042807  0.634478   0.578771   0.8691452  0.9046953\n",
      " 0.52855015 0.5964821  0.60621715 0.60677916 0.6438643  0.5611146\n",
      " 0.5570079  0.62713003 0.6028237  0.53886867 0.5168543  0.6920994\n",
      " 0.5869322  0.526297   0.6227367  0.65173256 0.543673   0.51632714\n",
      " 0.60282356 0.49380493 0.43133062 0.5120777  0.5793459  0.6227926\n",
      " 0.38732475 0.4918579  0.6787167  0.6545091  0.54065883 0.62992704\n",
      " 0.6701026  0.54381704 0.65322375 0.5565686  0.61754906 0.5151923\n",
      " 0.60044277 0.6166972  0.5196179  0.38236803 0.56523865 0.5393672\n",
      " 0.59657943 0.56010413 0.49114722 0.52334505 0.6082988 ]\n",
      "[0.7828547  0.693435   0.77791107 0.6459028  0.7278493  0.7957785\n",
      " 0.72420746 0.68273985 0.52126247 0.8222094  0.7836039  0.6327621\n",
      " 0.7819021  0.68930066 0.72764295 0.7153123  0.6820039  0.77504826\n",
      " 0.7819022  0.8475702  0.65622234 0.71738356 0.57641536 0.64986247\n",
      " 0.67354023 0.8143884  0.7541695  0.7396287  0.7828547  0.77576464\n",
      " 0.60403496 0.74140203 0.70588875 0.7252728  0.6883936  0.7109293\n",
      " 0.7278493  0.6971376  0.8084704  0.71552265 0.7957785  0.7642996\n",
      " 0.7058886  0.6784903  0.5490919  0.72910297 0.7692914  0.7069243\n",
      " 0.36493868 0.48533463 0.7587694  0.72940403 0.67644703 0.7003528\n",
      " 0.5976257  0.72420746 0.6902518  0.71251774 0.7036817  0.49717\n",
      " 0.66147393 0.80916786 0.6074672  0.54055357 0.753402   0.58617246\n",
      " 0.6821588  0.65968347 0.5596916  0.5452845  0.6828141 ]\n"
     ]
    }
   ],
   "source": [
    "print(softskillDictionary[keyList[0]])\n",
    "print(softskillDictionary[keyList[1]])\n",
    "print(softskillDictionary[keyList[2]])"
   ]
  },
  {
   "cell_type": "markdown",
   "id": "de4b3bfc",
   "metadata": {},
   "source": [
    "### Create new avgskillsDictionary\n",
    "Here, every key maps to the average of the list it maps to in softskillsdictionary. This is like an overall similarity score between that word and testCandidate blob of text. Maybe I can implement some other way like median which may be more accurate."
   ]
  },
  {
   "cell_type": "code",
   "execution_count": 44,
   "id": "f9de022d",
   "metadata": {},
   "outputs": [],
   "source": [
    "from statistics import mean\n",
    "avgskillsDict = {}\n",
    "for key in keyList:\n",
    "    previousList = softskillDictionary[key]\n",
    "    avgskillsDict[key] = mean(previousList)"
   ]
  },
  {
   "cell_type": "markdown",
   "id": "e22f1191",
   "metadata": {},
   "source": [
    "### Sort the avgskillsDictionary by keys\n",
    "This clarifies which words most describe the person. At this point, the program can output like top 10 words from the softskills csv that describe this testcandidate blob of text."
   ]
  },
  {
   "cell_type": "code",
   "execution_count": 45,
   "id": "b8da9e7d",
   "metadata": {
    "scrolled": true
   },
   "outputs": [
    {
     "name": "stdout",
     "output_type": "stream",
     "text": [
      "{'Building models': 0.42194155, 'Talking to people': 0.42468357, 'Quiet environment': 0.45760763, 'Fast-paced': 0.48418954, 'Unemotional': 0.49138308, 'Fast Paced': 0.49703798, 'Long term relationships': 0.50031364, 'Changes in work environment': 0.5006228, 'Stands up': 0.5055034, 'Catalyze the best for others': 0.5088219, 'Concrete': 0.51196057, 'Spearhead': 0.51239276, 'Sociable': 0.51417965, 'Recognize team success': 0.5144537, 'Impulsive': 0.515151, 'Steady pace': 0.5177279, 'Extraversion': 0.51913977, 'Fast learner': 0.5198285, 'Willing to try new things': 0.5207214, 'Fast speed': 0.52304995, 'Helping people': 0.5240566, 'Good arranger': 0.5243644, 'Working closely with users': 0.5246269, 'Curious about people': 0.52530134, 'Freedom from rules': 0.5290068, 'Strong-willed': 0.53029734, 'Working with people': 0.53480434, 'Public speaking': 0.53913194, 'Out of the box thinking': 0.5413408, 'Patient': 0.5415085, 'Suggestions of others': 0.5433813, 'Bottom-line': 0.54402745, 'Logical thinker': 0.54572594, 'Self-confident': 0.55179566, 'Team goals': 0.5527352, 'Deadlines': 0.55338764, 'Trustworthy': 0.55563617, 'Memorizing': 0.5563063, 'Democratic': 0.55773205, 'Upbeat': 0.5586692, 'Relationships': 0.5594731, 'Spotting errors': 0.5595242, 'Customer service': 0.5598063, 'Develop relationships': 0.5599177, 'Work well with others': 0.56135815, 'Straightforward': 0.56208134, 'Managing conflict': 0.56398696, 'Reserved': 0.56568855, 'Calm': 0.57053083, 'Architect': 0.57199144, 'Big Picture thinking': 0.5722477, 'Creative Problem solving': 0.57382196, 'Team Player': 0.5747328, 'High-energy': 0.5761736, 'Independent': 0.57681936, 'Diplomatic': 0.5774799, 'Improve Organizations': 0.57951826, 'Drive': 0.58240104, 'Warm': 0.5833618, 'Learn quickly': 0.58408415, 'Stable work': 0.5843164, 'Extensive knowledge': 0.5843983, 'Handle multiple priorities': 0.58561516, 'Verbal skills': 0.58676636, 'Trusting': 0.5898739, 'Skeptical': 0.59150344, 'Synthesize data': 0.59258634, 'Open Minded': 0.592969, 'Teaching': 0.59392333, 'Good memory': 0.5965488, 'Growth': 0.5967835, 'Friendly': 0.59866196, 'Cautious': 0.6001351, 'Delegates': 0.60300016, 'Good attitude': 0.60356224, 'Sales': 0.6046891, 'Matter-of-fact': 0.60600096, 'Coaching': 0.6060045, 'Likeminded people': 0.60728735, 'Mutual Trust': 0.6073634, 'Harmony-seeking': 0.60865974, 'Cross-functional teams': 0.6086931, 'Sincere': 0.6095559, 'Rational': 0.6096945, 'Indescisive': 0.6099079, 'Connects with others': 0.6106666, 'Writing': 0.6111223, 'Appreciative': 0.61152256, 'Magnetic': 0.61187243, 'Uncertain': 0.6139334, 'Success-oriented': 0.61397445, 'Confident': 0.61563, 'Faclitating cooperation': 0.6172226, 'Genuine': 0.6175041, 'Outspoken': 0.6194252, 'Risk-taker': 0.62003285, 'New approaches': 0.6201291, 'Freedom': 0.62016684, 'Social': 0.620174, 'Meticulous': 0.6203217, 'Analyze data': 0.6206479, 'Work knowledge': 0.6208293, 'Logial thinker': 0.62183017, 'Inventor': 0.62207454, 'Team Leader': 0.6224447, 'Steady': 0.62267834, 'Strong': 0.6226813, 'Individual contributor': 0.62387913, 'Self Moviated': 0.62596303, 'Enthusiastic': 0.62647617, 'Perfectionist': 0.62655973, 'Develop others': 0.62799, 'Open ended': 0.6284739, 'Pattern Recognition': 0.62996113, 'Logical': 0.63018596, 'Empathize': 0.6302463, 'Autonomy': 0.63160634, 'Empathetic': 0.6353096, 'Languages': 0.63577586, 'Punctual': 0.63626915, 'Knowledgeable': 0.6368212, 'Competent': 0.63742125, 'Team environment': 0.63755566, 'Counselor': 0.63804114, 'Forceful': 0.6385551, 'Loyal': 0.63862896, 'Predictable': 0.6389046, 'Spontaneous ': 0.63988096, 'Competitive': 0.64066046, 'target driven': 0.6407218, 'Team commitment': 0.641293, 'Blunt': 0.642534, 'Early': 0.6430423, 'Attendance': 0.64316833, 'Depth of knowledge': 0.6432719, 'Energetic': 0.6439193, 'Discipoined': 0.6442459, 'Reliable': 0.64454204, 'Instructor': 0.64506423, 'Hyper focus': 0.64566076, 'Talker': 0.64571214, 'Stability': 0.6477891, 'Data analysis': 0.649264, 'On time': 0.6510766, 'Interpersonal': 0.65136915, 'Supportive': 0.65188736, 'Ahead of time': 0.6519256, 'Fact Based': 0.65218955, 'Inspirational': 0.65400857, 'Collaborative Groups': 0.6542168, 'Consistent': 0.65423673, 'Helpful': 0.6551563, 'Mediation': 0.65519774, 'Multitasking': 0.65604687, 'Eye for detail': 0.65655875, 'Tactful': 0.65820843, 'Communicator': 0.65921736, 'Value feedback': 0.6593653, 'Attention to detail.': 0.6615897, 'Mentor': 0.66268843, 'Dependable ': 0.6646068, 'Dependable': 0.6646068, 'Proactive': 0.66495615, 'Convincing ': 0.6651503, 'Eager': 0.66553813, 'Security': 0.66751814, 'Personable': 0.67089057, 'Research': 0.6713608, 'Sharp': 0.6737726, 'Isolating': 0.67499053, 'Evidence-based': 0.676542, 'Promoter': 0.6765514, 'Arts': 0.6767139, 'Lively': 0.67754024, 'Accuracy': 0.67769974, 'Action-oriented': 0.67793673, 'Pressure': 0.67839754, 'Demanding': 0.6787269, 'Cooperative': 0.6797629, 'Opinionated': 0.6808948, 'Goal-oriented': 0.6818552, 'Ingenuity': 0.68201643, 'Organisational': 0.68219763, 'Influencer': 0.6824122, 'Adjusts approaches': 0.6832939, 'Thorough': 0.68369627, 'Teammwork': 0.6839632, 'Cultural': 0.68401045, 'Open': 0.6840465, 'Curious': 0.6856845, 'Leadership': 0.6869946, 'Persuasive ': 0.6870541, 'Effective': 0.68819624, 'Correctness': 0.6883789, 'Motivated': 0.68860143, 'Questioning': 0.6890074, 'Ensure correct': 0.6893996, 'Expressive': 0.68983626, 'Factual': 0.6904192, 'Connecting dots': 0.69073665, 'Creative Solutions': 0.6935753, 'Assertive': 0.6941376, 'Team setting': 0.6956748, 'Thinker': 0.69622684, 'Innovative': 0.69650227, 'Swift': 0.6966108, 'Determined': 0.6973604, 'Flexible': 0.6981787, 'Data Oriented': 0.6997921, 'Accepting': 0.69986314, 'Decisive ': 0.70032823, 'Detail-oriented': 0.7056906, 'Critical': 0.70764995, 'Coordianting efforts': 0.7086896, 'Management': 0.7090796, 'Adaptable': 0.7092272, 'Detail Oriented': 0.71202874, 'Analytical': 0.71264565, 'Scheduling': 0.71490884, 'Variety': 0.7157303, 'Objective': 0.71615523, 'Achiever': 0.71625483, 'Ideator': 0.7183654, 'Programming': 0.7202639, 'Systematic': 0.72132295, 'systematic': 0.72132295, 'Deliberate': 0.72338504, 'Monitor': 0.7241796, 'Focused': 0.72451943, 'Instructions': 0.7250927, 'Quality': 0.725693, 'Strategy': 0.7280763, 'Empowers': 0.7281352, 'Operational': 0.7288286, 'Creative': 0.7288927, 'Dynamic': 0.73237526, 'Collaborative': 0.73380613, 'Accomadating ': 0.7391061, 'Structure': 0.7445909, 'Expertise': 0.7452662, 'Control': 0.74608606, 'Supervising': 0.74619204, 'Connection': 0.7483613, 'Organized': 0.7502884, 'Connecting ': 0.7547319, 'Structured': 0.7582128, 'Initiative': 0.758744, 'Operations': 0.7677268}\n"
     ]
    }
   ],
   "source": [
    "sorted_dict = {}\n",
    "sorted_keys = sorted(avgskillsDict, key=avgskillsDict.get)\n",
    "\n",
    "for w in sorted_keys:\n",
    "    sorted_dict[w] = avgskillsDict[w]\n",
    "\n",
    "print(sorted_dict)"
   ]
  },
  {
   "cell_type": "markdown",
   "id": "051004e3",
   "metadata": {},
   "source": [
    "### Find the similarity score for each of the 8 personalities from soft skills csv"
   ]
  },
  {
   "cell_type": "code",
   "execution_count": 46,
   "id": "dd33fb20",
   "metadata": {},
   "outputs": [],
   "source": [
    "teamLeader = softskillsDataFrame.iloc[:, 0]\n",
    "boolSeries = pd.notnull(teamLeader)\n",
    "teamLeader = teamLeader[boolSeries]\n",
    "\n",
    "teamPlayer = softskillsDataFrame.iloc[:, 1]\n",
    "boolSeries = pd.notnull(teamPlayer)\n",
    "teamPlayer = teamPlayer[boolSeries]\n",
    "\n",
    "thinker = softskillsDataFrame.iloc[:, 2]\n",
    "boolSeries = pd.notnull(thinker)\n",
    "thinker = thinker[boolSeries]\n",
    "\n",
    "talker = softskillsDataFrame.iloc[:, 3]\n",
    "boolSeries = pd.notnull(talker)\n",
    "talker = talker[boolSeries]\n",
    "\n",
    "steady = softskillsDataFrame.iloc[:, 4]\n",
    "boolSeries = pd.notnull(steady)\n",
    "steady = steady[boolSeries]\n",
    "\n",
    "fastpaced = softskillsDataFrame.iloc[:, 5]\n",
    "boolSeries = pd.notnull(fastpaced)\n",
    "fastpaced = fastpaced[boolSeries]\n",
    "\n",
    "detailOriented = softskillsDataFrame.iloc[:, 6]\n",
    "boolSeries = pd.notnull(detailOriented)\n",
    "detailOriented = detailOriented[boolSeries]\n",
    "\n",
    "innovative = softskillsDataFrame.iloc[:, 7]\n",
    "boolSeries = pd.notnull(innovative)\n",
    "innovative = innovative[boolSeries]"
   ]
  },
  {
   "cell_type": "code",
   "execution_count": 47,
   "id": "dadf7bbb",
   "metadata": {},
   "outputs": [
    {
     "name": "stdout",
     "output_type": "stream",
     "text": [
      "0.6353276119284008\n"
     ]
    }
   ],
   "source": [
    "teamLeaderSum = 0\n",
    "for key in teamLeader:\n",
    "    teamLeaderSum += avgskillsDict[key]\n",
    "teamLeaderAvg = float(teamLeaderSum / len(teamLeader))\n",
    "print(teamLeaderAvg)"
   ]
  },
  {
   "cell_type": "code",
   "execution_count": 48,
   "id": "f5be706d",
   "metadata": {},
   "outputs": [
    {
     "name": "stdout",
     "output_type": "stream",
     "text": [
      "0.6173269425829252\n"
     ]
    }
   ],
   "source": [
    "teamPlayerSum = 0\n",
    "for key in teamPlayer:\n",
    "    teamPlayerSum += avgskillsDict[key]\n",
    "teamPlayerAvg = float(teamPlayerSum / len(teamPlayer))\n",
    "print(teamPlayerAvg)"
   ]
  },
  {
   "cell_type": "code",
   "execution_count": 49,
   "id": "4e78e9de",
   "metadata": {},
   "outputs": [
    {
     "name": "stdout",
     "output_type": "stream",
     "text": [
      "0.6297001764178276\n"
     ]
    }
   ],
   "source": [
    "thinkerValues = [float(avgskillsDict[key]) for key in thinker]\n",
    "thinkerAvg = mean(thinkerValues)\n",
    "print(thinkerAvg)"
   ]
  },
  {
   "cell_type": "code",
   "execution_count": 50,
   "id": "1fb06953",
   "metadata": {},
   "outputs": [
    {
     "name": "stdout",
     "output_type": "stream",
     "text": [
      "0.6144353443262528\n"
     ]
    }
   ],
   "source": [
    "talkerValues = [float(avgskillsDict[key]) for key in talker]\n",
    "talkerAvg = mean(talkerValues)\n",
    "print(talkerAvg)"
   ]
  },
  {
   "cell_type": "code",
   "execution_count": 51,
   "id": "9fd4531e",
   "metadata": {},
   "outputs": [
    {
     "name": "stdout",
     "output_type": "stream",
     "text": [
      "0.6482259035110474\n"
     ]
    }
   ],
   "source": [
    "steadyValues = [float(avgskillsDict[key]) for key in steady]\n",
    "steadyAvg = mean(steadyValues)\n",
    "print(steadyAvg)"
   ]
  },
  {
   "cell_type": "code",
   "execution_count": 52,
   "id": "065fc83d",
   "metadata": {},
   "outputs": [
    {
     "name": "stdout",
     "output_type": "stream",
     "text": [
      "0.6177546765123095\n"
     ]
    }
   ],
   "source": [
    "fastValues = [float(avgskillsDict[key]) for key in fastpaced]\n",
    "fastAvg = mean(fastValues)\n",
    "print(fastAvg)"
   ]
  },
  {
   "cell_type": "code",
   "execution_count": 53,
   "id": "5613c1d6",
   "metadata": {},
   "outputs": [
    {
     "name": "stdout",
     "output_type": "stream",
     "text": [
      "0.6512603814955111\n"
     ]
    }
   ],
   "source": [
    "detailValues = [float(avgskillsDict[key]) for key in detailOriented]\n",
    "detailAvg = mean(detailValues)\n",
    "print(detailAvg)"
   ]
  },
  {
   "cell_type": "code",
   "execution_count": 54,
   "id": "e12f8e3f",
   "metadata": {},
   "outputs": [
    {
     "name": "stdout",
     "output_type": "stream",
     "text": [
      "0.642262856165568\n"
     ]
    }
   ],
   "source": [
    "innovativeValues = [float(avgskillsDict[key]) for key in innovative]\n",
    "innovativeAvg = mean(innovativeValues)\n",
    "print(innovativeAvg)"
   ]
  },
  {
   "cell_type": "code",
   "execution_count": 55,
   "id": "501f0ca5",
   "metadata": {
    "scrolled": true
   },
   "outputs": [
    {
     "data": {
      "text/plain": [
       "{'Team Leader': 0.6353276119284008,\n",
       " 'Team Player': 0.6173269425829252,\n",
       " 'Thinker': 0.6297001764178276,\n",
       " 'Talker': 0.6144353443262528,\n",
       " 'Steady': 0.6482259035110474,\n",
       " 'Fast-Paced': 0.6177546765123095,\n",
       " 'Detail-Oriented': 0.6512603814955111,\n",
       " 'Innovative': 0.642262856165568}"
      ]
     },
     "execution_count": 55,
     "metadata": {},
     "output_type": "execute_result"
    }
   ],
   "source": [
    "categories = {\"Team Leader\" : teamLeaderAvg, \"Team Player\" : teamPlayerAvg, \"Thinker\" : thinkerAvg, \"Talker\" : talkerAvg, \"Steady\" : steadyAvg, \"Fast-Paced\" : fastAvg, \"Detail-Oriented\" : detailAvg, \"Innovative\" : innovativeAvg}\n",
    "categories"
   ]
  },
  {
   "cell_type": "markdown",
   "id": "106c0785",
   "metadata": {},
   "source": [
    "### Sort the category scores to clarify which category best fits this candidate blob of text"
   ]
  },
  {
   "cell_type": "code",
   "execution_count": 56,
   "id": "611cf177",
   "metadata": {},
   "outputs": [
    {
     "name": "stdout",
     "output_type": "stream",
     "text": [
      "{'Talker': 0.6144353443262528, 'Team Player': 0.6173269425829252, 'Fast-Paced': 0.6177546765123095, 'Thinker': 0.6297001764178276, 'Team Leader': 0.6353276119284008, 'Innovative': 0.642262856165568, 'Steady': 0.6482259035110474, 'Detail-Oriented': 0.6512603814955111}\n"
     ]
    }
   ],
   "source": [
    "categoriesSorted = {}\n",
    "sortedCategoryKeys = sorted(categories, key=categories.get)  # [1, 3, 2]\n",
    "for w in sortedCategoryKeys:\n",
    "    categoriesSorted[w] = categories[w]\n",
    "\n",
    "print(categoriesSorted) # {1: 1, 3: 4, 2: 9}"
   ]
  },
  {
   "cell_type": "markdown",
   "id": "4fef4cbc",
   "metadata": {},
   "source": [
    "# 2 Independent Processes\n",
    "## Candidate data extraction\n",
    "1. For each candidate, combine skills, experience, strengths, job details into one string. \n",
    "2. Remove stopwords and lemmatize this string using NLTK.\n",
    "3. Encode this candidate text string using BERT to a vector.\n",
    "\n",
    "## Softskills CSV data extraction\n",
    "\n",
    "1. Find a list of soft skills (entries in Soft Skills.csv) for keys in softskillsdictionary with pandas.\n",
    "2. Encode every key using BERT to a vector (key embedding).\n",
    "\n",
    "# Comparison\n",
    "1. For every encoded key, map it to a list of cosine similarity values with each of the words in the candidate text blob.\n",
    "2. Create a new dictionary (avgskillsDict) which maps these keys to the averages of those lists above. Now each key has a similarity score with the candidate blob of text.\n",
    "\n",
    "Now we can\n",
    "1) sort keys in order of ascending similarity values. Can get top \"n\" number of words describing this person.\n",
    "\n",
    "or \n",
    "\n",
    "2) Determine average similarity score across the category itself taking an average of averages. Sort this to determine which category is best describes this person.\n",
    "\n",
    "# Flexibility\n",
    "## Results\n",
    "The similarity scores seem to be very similar. The program cannot fully distinguish between the categories in soft skills (\"Team Player\", \"Thinker\", etc.). As a drawback, this also means the program is not catered to a particular type of input. \n",
    "## Reflection\n",
    "1. The program can be updated to use part of speech tagging when filtering the candidate data or a job description (in the end, only a string is needed).\n",
    "2. Cosine similarity and BERT models can be changed to experiment with different semantic similarity methods (thinking about implementing GloVe or Word2Vec).\n",
    "3. The math involved can be done differently. Maybe use median instead of mean. Also, not every column in the softskills csv has the same number of entries, which would affect the mean similarity score calculated per category. The categories with less entries give the entries more say in the average."
   ]
  },
  {
   "cell_type": "code",
   "execution_count": null,
   "id": "bd1d3a15",
   "metadata": {},
   "outputs": [],
   "source": []
  }
 ],
 "metadata": {
  "kernelspec": {
   "display_name": "Python 3",
   "language": "python",
   "name": "python3"
  },
  "language_info": {
   "codemirror_mode": {
    "name": "ipython",
    "version": 3
   },
   "file_extension": ".py",
   "mimetype": "text/x-python",
   "name": "python",
   "nbconvert_exporter": "python",
   "pygments_lexer": "ipython3",
   "version": "3.8.8"
  }
 },
 "nbformat": 4,
 "nbformat_minor": 5
}
